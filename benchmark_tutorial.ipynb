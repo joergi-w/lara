{
 "cells": [
  {
   "cell_type": "markdown",
   "metadata": {},
   "source": [
    "# LaRA 2 benchmark tutorial\n",
    "\n",
    "This document assists you to run the benchmarks for LaRA 2 that we describe in our paper.\n",
    "\n",
    "## Requirements and paths\n",
    "In order to run all the benchmarks, the following programs and libraries need to be built on your system. Afterwards please specify the paths to the binaries below, if they are not in your PATH.\n",
    "\n",
    "Program        | Link to the download and install instructions\n",
    ":------------- |:---------------------------------------------\n",
    "LaRA 2         | https://seqan.github.io/lara\n",
    "T-Coffee       | http://www.tcoffee.org/Projects/tcoffee/index.html\n",
    "MAFFT for LaRA | https://github.com/bioinformatics-polito/LaRA2-mafft\n",
    "RNAz           | https://www.tbi.univie.ac.at/software/RNAz\n",
    "SQUID          | http://www.eddylab.org/software.html\n",
    "\n",
    "Furthermore we use the following Python modules, which can be installed via pip:\n",
    "```commandline\n",
    "pip install biopython\n",
    "pip install wget\n",
    "```\n"
   ]
  },
  {
   "cell_type": "code",
   "execution_count": null,
   "metadata": {
    "scrolled": true
   },
   "outputs": [],
   "source": [
    "LARA_BIN = 'lara'\n",
    "TCOFFEE_BIN = 't_coffee'\n",
    "MAFFT_BIN = 'mafft-xinsi'\n",
    "RNAZ_BIN = 'RNAz'\n",
    "COMPALIGN_BIN = 'compalignp' # part of the SQUID library\n",
    "ALISTAT_BIN = 'alistat'      # part of the SQUID library"
   ]
  },
  {
   "cell_type": "markdown",
   "metadata": {},
   "source": [
    "Let's create a working directory, where we store all the files that we create during the benchmarks."
   ]
  },
  {
   "cell_type": "code",
   "execution_count": null,
   "metadata": {
    "scrolled": true
   },
   "outputs": [],
   "source": [
    "import os\n",
    "\n",
    "WORK_DIR = './benchmark/'\n",
    "os.system('rm -rf ' + WORK_DIR) # make sure it does not exist\n",
    "os.makedirs(WORK_DIR)           # create\n",
    "os.chdir(WORK_DIR)              # use as working directory"
   ]
  },
  {
   "cell_type": "markdown",
   "metadata": {},
   "source": [
    "## BRAliBase II\n",
    "We use the data set 1 of [BRAliBase II](http://projects.binf.ku.dk/pgardner/bralibase/bralibase2.html) to observe the performance across several RNA families. \n",
    "\n",
    "Download and extract the data:"
   ]
  },
  {
   "cell_type": "code",
   "execution_count": null,
   "metadata": {},
   "outputs": [],
   "source": [
    "import wget\n",
    "import tarfile\n",
    "\n",
    "file = wget.download('http://projects.binf.ku.dk/pgardner/bralibase/data-set1.tar.gz')\n",
    "with tarfile.open(file, 'r:gz') as tar:\n",
    "    tar.extractall()"
   ]
  },
  {
   "cell_type": "markdown",
   "metadata": {},
   "source": [
    "Create the list of input files."
   ]
  },
  {
   "cell_type": "code",
   "execution_count": null,
   "metadata": {},
   "outputs": [],
   "source": [
    "unaligned = []\n",
    "for path, _, fnames in os.walk('./data-set1/'):\n",
    "    unaligned.extend([os.path.join(path, f) for f in fnames if f.endswith('.fa') and path.endswith('unaligned')])\n",
    "unaligned.sort(key=str.lower)\n",
    "\n",
    "# generate a unique name for output files\n",
    "def get_name(filename):\n",
    "    parts = os.path.splitext(filename)[0].split('/')\n",
    "    return(parts[-3] + '_' + parts[-1])\n",
    "\n",
    "print('Found ' + str(len(unaligned)) + ' files.')"
   ]
  },
  {
   "cell_type": "markdown",
   "metadata": {},
   "source": [
    "Execute LaRA 2 with T-Coffee."
   ]
  },
  {
   "cell_type": "code",
   "execution_count": null,
   "metadata": {},
   "outputs": [],
   "source": [
    "from time import time\n",
    "from subprocess import run\n",
    "\n",
    "os.mkdir('lara_tcoffee')\n",
    "t = time()\n",
    "for infile in unaligned:\n",
    "    outfile = 'lara_tcoffee/' + get_name(infile) + '.aln'\n",
    "    run([LARA_BIN, '-i', infile, '-w', 'pairwise.lib', '-j', '4'], check=True)\n",
    "    run([TCOFFEE_BIN, '-lib', 'pairwise.lib', '-outfile', outfile], check=True)\n",
    "    \n",
    "print('Time: ' + str(time()-t) + ' seconds.')"
   ]
  },
  {
   "cell_type": "markdown",
   "metadata": {},
   "source": [
    "Evaluation of the Sum of Pair Scores (SPS) and Structure Conservation Index (SCI)."
   ]
  },
  {
   "cell_type": "code",
   "execution_count": null,
   "metadata": {
    "scrolled": true
   },
   "outputs": [],
   "source": [
    "from Bio import AlignIO\n",
    "from re import search\n",
    "\n",
    "stat_file = open('lara_tcoffee.dat', 'w')\n",
    "print('alignment_id\\t%_id\\tSPS\\tSCI')\n",
    "\n",
    "for infile in unaligned:\n",
    "    alid = get_name(infile)\n",
    "    ref_file = infile.replace('/unaligned/', '/structural/')\n",
    "    aln_file = 'lara_tcoffee/' + alid + '.aln'\n",
    "    fa_file = 'lara_tcoffee/' + alid + '.fa'\n",
    "    \n",
    "    # convert T-Coffee output to FastA\n",
    "    ali = AlignIO.read(aln_file, 'clustal')\n",
    "    AlignIO.write([ali], fa_file, 'fasta')\n",
    "    \n",
    "    # get average sequence identity\n",
    "    out = run([ALISTAT_BIN, '-q', ref_file], capture_output=True, text=True, check=True).stdout\n",
    "    avg_id = search('(?<=Average identity:)(\\s+)(\\d+)(?=%)', out).group(2)\n",
    "    \n",
    "    # get SPS\n",
    "    out = run([COMPALIGN_BIN, '-r', ref_file, '-t', fa_file], capture_output=True, text=True, check=True).stdout\n",
    "    sps = out.strip()\n",
    "    \n",
    "    # get SCI\n",
    "    out = run([RNAZ_BIN, aln_file], capture_output=True, text=True, check=True).stdout\n",
    "    sci = search('(?<=Structure conservation index:)(\\s+)(\\d+.\\d+)', out).group(2)\n",
    "    \n",
    "    # output\n",
    "    print(alid + '\\t' + avg_id + '\\t' + sps + '\\t' + sci)\n",
    "    stat_file.write(alid + '\\t' + avg_id + '\\t' + sps + '\\t' + sci + '\\n')\n",
    "    \n",
    "stat_file.close()"
   ]
  },
  {
   "cell_type": "markdown",
   "metadata": {},
   "source": [
    "The output is stored in `lara_tcoffee.dat` and can be plotted e.g. with R.\n"
   ]
  },
  {
   "cell_type": "code",
   "execution_count": null,
   "metadata": {},
   "outputs": [],
   "source": []
  }
 ],
 "metadata": {
  "kernelspec": {
   "display_name": "Python 3",
   "language": "python",
   "name": "python3"
  },
  "language_info": {
   "codemirror_mode": {
    "name": "ipython",
    "version": 3
   },
   "file_extension": ".py",
   "mimetype": "text/x-python",
   "name": "python",
   "nbconvert_exporter": "python",
   "pygments_lexer": "ipython3",
   "version": "3.7.7"
  }
 },
 "nbformat": 4,
 "nbformat_minor": 4
}
